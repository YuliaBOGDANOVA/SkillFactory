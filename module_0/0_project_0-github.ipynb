{
 "cells": [
  {
   "cell_type": "code",
   "execution_count": null,
   "metadata": {},
   "outputs": [],
   "source": [
    "import numpy as np\n",
    "import random\n",
    "\n",
    "\n",
    "def game_core_my(number):\n",
    "    '''\n",
    "    Generates a random value in initial bounds.\n",
    "    Checks if the hidden number more or lower then the random one.\n",
    "    Changes the corresponding bound and then\n",
    "    generates a new random value in new bounds for further comparison.\n",
    "    \n",
    "    '''\n",
    "    lower = 1\n",
    "    upper = 101\n",
    "    predict = np.random.randint(lower, upper)\n",
    "    count = 1\n",
    "    while number != predict:\n",
    "        count += 1\n",
    "        \n",
    "        if number > predict: \n",
    "            lower = predict\n",
    "            predict = random.randint(lower, upper)\n",
    "        elif number < predict: \n",
    "            upper = predict\n",
    "            predict = random.randint(lower, upper)\n",
    "            \n",
    "    return(count) \n",
    "\n",
    "\n",
    "def score_game(game_core):\n",
    "    '''\n",
    "    Runs the game for 1000 times to define the mean value of attempts\n",
    "    at which the algorithm finds the hidden value.\n",
    "    \n",
    "    '''\n",
    "    count_ls = []\n",
    "    np.random.seed(1)  # To reproduce the data given by the number generator.\n",
    "    random_array = np.random.randint(1, 101, size=(1000))\n",
    "    for number in random_array:\n",
    "        count_ls.append(game_core(number))\n",
    "        \n",
    "    score = int(np.mean(count_ls))\n",
    "    print(f\"Your algorithm guesses the number in {score} tries on average\")\n",
    "    \n",
    "    return(score)\n",
    "\n",
    "\n",
    "print(score_game(game_core_my))"
   ]
  }
 ],
 "metadata": {
  "kernelspec": {
   "display_name": "Python 3",
   "language": "python",
   "name": "python3"
  },
  "language_info": {
   "codemirror_mode": {
    "name": "ipython",
    "version": 3
   },
   "file_extension": ".py",
   "mimetype": "text/x-python",
   "name": "python",
   "nbconvert_exporter": "python",
   "pygments_lexer": "ipython3",
   "version": "3.8.3"
  }
 },
 "nbformat": 4,
 "nbformat_minor": 4
}
